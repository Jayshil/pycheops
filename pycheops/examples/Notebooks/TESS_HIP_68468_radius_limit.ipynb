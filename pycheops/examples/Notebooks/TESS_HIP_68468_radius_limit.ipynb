{
 "cells": [
  {
   "cell_type": "markdown",
   "metadata": {},
   "source": [
    "## Upper limit to radius of HIP 68468 b from TESS light curve\n",
    "\n",
    "Upper limit to known short-period exoplanet from the TESS light curve of HIP 68468 assuming that it transits.\n",
    "\n"
   ]
  },
  {
   "cell_type": "code",
   "execution_count": 1,
   "metadata": {},
   "outputs": [
    {
     "name": "stdout",
     "output_type": "stream",
     "text": [
      "Populating the interactive namespace from numpy and matplotlib\n"
     ]
    }
   ],
   "source": [
    "%pylab inline\n",
    "from astroquery.mast import Observations\n",
    "from astropy.table import Table, Column\n",
    "from pycheops import models\n",
    "from uncertainties import UFloat, ufloat\n",
    "from pycheops.funcs import transit_width\n",
    "from pycheops.starproperties import StarProperties\n",
    "from uncertainties.umath import log10 as ulog10\n",
    "import celerite\n",
    "from celerite import terms\n",
    "from scipy.optimize import minimize\n",
    "from pycheops.funcs import transit_width\n",
    "from pycheops.instrument import transit_noise\n",
    "from numpy.random import normal as G\n",
    "from numpy.random import uniform as U\n",
    "from pycheops.constants import R_EarthN,R_SunN"
   ]
  },
  {
   "cell_type": "markdown",
   "metadata": {},
   "source": [
    "#### Target information\n",
    "From Melendez et al., A&A 597, A34 (2017).\n",
    "\n",
    "**N.B. time of predicted transit and error are fictitious -- just for testing**\n"
   ]
  },
  {
   "cell_type": "code",
   "execution_count": 2,
   "metadata": {},
   "outputs": [],
   "source": [
    "TIC = 451213318 \n",
    "T0 = ufloat(2600.10,0.10)  # Time of mid-transit, BJD-2457000\n",
    "P  = ufloat(1.8374, 0.0003)     # Orbital period, days\n",
    "star = StarProperties('HIP 68468')\n",
    "mpl = ufloat(2.9,0.8)   # m_p sin(i) in Earth masses"
   ]
  },
  {
   "cell_type": "code",
   "execution_count": 3,
   "metadata": {},
   "outputs": [
    {
     "name": "stdout",
     "output_type": "stream",
     "text": [
      "Identifier : HIP 68468\n",
      "Coordinates: 14:01:03.61 -32:45:25.0\n",
      "T_eff :  5840 +/- 12 K    [SWEET-Cat]\n",
      "log g :  4.34 +/- 0.01    [SWEET-Cat]\n",
      "[M/H] : +0.08 +/- 0.01    [SWEET-Cat]\n",
      "log rho : -0.16 +/- 0.05 [solar]\n",
      "h_1 : 0.734 +/- 0.010\n",
      "h_2 : 0.455 +/- 0.050\n",
      "\n",
      "R_star = 0.875+/-0.032 R_Sun\n",
      "R_star/a = 0.179+/-0.006\n",
      "Nominal transit width = 2.52 h\n"
     ]
    }
   ],
   "source": [
    "print(star)\n",
    "mass = ufloat(1.04,0.01)  # From Melendez et al.\n",
    "r_star = 10**((star.logrho-ulog10(mass))/3)\n",
    "print('R_star = {:0.3f} R_Sun'.format(r_star))\n",
    "aR = 10**((star.logrho + 2*ulog10(P)- log10(0.013418))/3)\n",
    "print('R_star/a = {:0.3f}'.format(1/aR))\n",
    "nominal_width = transit_width(1/aR.n,0,0,P=P.n)*24\n",
    "print('Nominal transit width = {:0.2f} h'.format(nominal_width))\n",
    "h_1, h_2 = star.h_1.n, star.h_2.n"
   ]
  },
  {
   "cell_type": "markdown",
   "metadata": {},
   "source": [
    "#### Download TESS data"
   ]
  },
  {
   "cell_type": "code",
   "execution_count": 4,
   "metadata": {},
   "outputs": [
    {
     "name": "stdout",
     "output_type": "stream",
     "text": [
      "INFO: Found cached file ./mastDownload/TESS/tess2019112060037-s0011-0000000451213318-0143-s/tess2019112060037-s0011-0000000451213318-0143-s_lc.fits with expected size 1984320. [astroquery.query]\n"
     ]
    }
   ],
   "source": [
    "flux_column = 'PDCSAP_FLUX'\n",
    "# flux_column = 'SAP_FLUX'\n",
    "#quality_bitmask=1130799  # \"default\": cadences with severe quality issues will be ignored\n",
    "quality_bitmask=1664431 #  more conservative choice of flags to ignore - this is known to remove good data.\n",
    "\n",
    "tjd = []\n",
    "flux_r = []\n",
    "ferr_r = []\n",
    "import warnings\n",
    "from astroquery.mast.core import NoResultsWarning\n",
    "warnings.simplefilter('ignore',NoResultsWarning)\n",
    "for obs in Observations.query_criteria(filters=[\"TESS\"],target_name=TIC):\n",
    "    obslist = Observations.get_product_list(obs['obsid'])\n",
    "    m=Observations.download_products(obslist[obslist['description'] == \"Light curves\"])\n",
    "    if m is not None:\n",
    "        data = Table.read(m['Local Path'][0])\n",
    "        iok = ( ((data['QUALITY'] & quality_bitmask) == 0) &\n",
    "                isfinite(data['PDCSAP_FLUX'])).nonzero()\n",
    "        data = data[iok]\n",
    "        tjd=np.append(tjd,array(data['TIME']))  \n",
    "        flx=data[flux_column] \n",
    "        err=data[\"{}_ERR\".format(flux_column)]\n",
    "        flux_r=np.append(flux_r,flx/median(flx))\n",
    "        ferr_r=np.append(ferr_r,err/median(flx))\n"
   ]
  },
  {
   "cell_type": "markdown",
   "metadata": {},
   "source": [
    "#### GP fit to flux between transits\n",
    "\n",
    "We use Gaussian Process regression with [celerite](https://celerite.readthedocs.io/en/stable/) to model the flux variation between the eclipses.\n",
    "\n",
    "The light-curve in binned into uniform time steps equal to 2x the nominal transit width since we are only interested in removing slow variations in flux.  "
   ]
  },
  {
   "cell_type": "code",
   "execution_count": 5,
   "metadata": {},
   "outputs": [
    {
     "name": "stdout",
     "output_type": "stream",
     "text": [
      "Initial log likelihood: 747.6444140695087\n"
     ]
    },
    {
     "data": {
      "image/png": "[encoded data removed]",
      "text/plain": [
       "<Figure size 576x288 with 1 Axes>"
      ]
     },
     "metadata": {
      "needs_background": "light"
     },
     "output_type": "display_data"
    }
   ],
   "source": [
    "n_bin = int((max(tjd)-min(tjd))*12/nominal_width)\n",
    "n_in_bin,bin_edges = np.histogram(tjd,bins=n_bin)\n",
    "bin_indices = np.digitize(tjd,bin_edges)\n",
    "t_bin = np.zeros(n_bin)\n",
    "f_bin = np.zeros(n_bin)\n",
    "e_bin = np.zeros(n_bin)\n",
    "min_in_bin = 8\n",
    "for i,n in enumerate(n_in_bin):\n",
    "    if n > min_in_bin:\n",
    "        t_bin[i] = mean(tjd[bin_indices == i+1])\n",
    "        f_bin[i] = median(flux_r[bin_indices == i+1])\n",
    "        e_bin[i] = 1.25*mean(abs(flux_r[bin_indices == i+1] - f_bin[i]))/sqrt(n)\n",
    "\n",
    "mask_not_empty = (e_bin > 0)\n",
    "t_bin = t_bin[mask_not_empty]\n",
    "f_bin = f_bin[mask_not_empty]\n",
    "e_bin = e_bin[mask_not_empty]\n",
    "\n",
    "Q = 1.0\n",
    "w0 = 1.0\n",
    "S0 = np.var(f_bin) / (w0 * Q)\n",
    "bounds = dict(log_S0=(-25, 25), log_Q=(-25, 25), log_omega0=(-25, 25))\n",
    "kernel = terms.SHOTerm(log_S0=np.log(S0), log_Q=np.log(Q), log_omega0=np.log(w0),\n",
    "                        bounds=bounds)\n",
    "bounds = dict(log_sigma=(-25, 25))\n",
    "kernel += terms.JitterTerm(log_sigma=-10,bounds=bounds)\n",
    "gp = celerite.GP(kernel, mean=1)\n",
    "gp.compute(t_bin, yerr=e_bin)  # You always need to call compute once.\n",
    "print(\"Initial log likelihood: {0}\".format(gp.log_likelihood(f_bin)))\n",
    "def neg_log_like(params, f_bin, gp):\n",
    "    gp.set_parameter_vector(params)\n",
    "    return -gp.log_likelihood(f_bin)\n",
    "\n",
    "initial_params = gp.get_parameter_vector()\n",
    "bounds = gp.get_parameter_bounds()\n",
    "result_gp = minimize(neg_log_like, initial_params, method=\"L-BFGS-B\", bounds=bounds, args=(f_bin, gp))\n",
    "gp.set_parameter_vector(result_gp.x)\n",
    "pred_mean = gp.predict(f_bin, tjd,return_cov=False,return_var=False)\n",
    "\n",
    "fig1, ax1 = subplots(figsize=(8,4))\n",
    "ax1.scatter(t_bin,f_bin,s=2,c='c')\n",
    "ax1.plot(tjd, pred_mean, color='g',ms=2)\n",
    "ax1.set_xlim(min(tjd),max(tjd))\n",
    "ax1.set_ylim(1-2*f_bin.std(),1+2*f_bin.std())\n",
    "ax1.set_xlabel('Time')\n",
    "ax1.set_ylabel('Flux')\n",
    "flux = flux_r/pred_mean\n",
    "ferr = ferr_r/pred_mean"
   ]
  },
  {
   "cell_type": "markdown",
   "metadata": {},
   "source": [
    "#### Transit noise plot"
   ]
  },
  {
   "cell_type": "code",
   "execution_count": 6,
   "metadata": {},
   "outputs": [],
   "source": [
    "ts = min(tjd)+nominal_width/48\n",
    "te = max(tjd)-nominal_width/48\n",
    "nt = 8 * int((max(tjd)-min(tjd))*24/nominal_width)\n",
    "tt = linspace(ts, te, nt)\n",
    "tn = []\n",
    "tf = []\n",
    "for t in tt:\n",
    "    n_,f_ = transit_noise(tjd, flux, ferr, \n",
    "                      width=nominal_width, T_0 = t,\n",
    "                      h_1=h_1, h_2=h_2)\n",
    "    tn.append(n_)\n",
    "    tf.append(f_)"
   ]
  },
  {
   "cell_type": "code",
   "execution_count": 7,
   "metadata": {},
   "outputs": [
    {
     "name": "stdout",
     "output_type": "stream",
     "text": [
      "Median 1-sigma transit depth = 61.0 ppm\n",
      "Median error scaling factor = 1.074\n"
     ]
    },
    {
     "data": {
      "image/png": "[encoded data removed]",
      "text/plain": [
       "<Figure size 432x288 with 2 Axes>"
      ]
     },
     "metadata": {
      "needs_background": "light"
     },
     "output_type": "display_data"
    }
   ],
   "source": [
    "fig, ax = subplots(nrows=2,sharex=True)    \n",
    "ax[0].plot(tt,tn)\n",
    "ax[0].set_ylabel('Noise [ppm]')\n",
    "ax[0].set_ylim(0.5*np.nanmedian(tn),1.5*np.nanmedian(tn))\n",
    "ax[1].scatter(tjd, (flux-1)*1e6,s=1)\n",
    "ax[1].set_ylabel('Flux - 1 [ppm]')\n",
    "ax[1].set_xlabel('BJD-2457000')\n",
    "ax[1].set_ylim(-5e6*flux.std(),5e6*flux.std())\n",
    "D = np.nanmedian(tn)*1e-6\n",
    "print('Median 1-sigma transit depth = {:0.1f} ppm'.format(np.nanmedian(tn)))\n",
    "print('Median error scaling factor = {:0.3f}'.format(np.nanmedian(tf)))"
   ]
  },
  {
   "cell_type": "markdown",
   "metadata": {},
   "source": [
    "#### Monte Carlo calculation\n",
    "Randomly generate transit time, impact parameter, etc. then calculate the best-fit transit depth and its error in a loop. \n",
    "\n",
    "For each loop iteration, randomly sample from the stellar radius distribution and the depth error distribution to get a sample of  planet radii."
   ]
  },
  {
   "cell_type": "code",
   "execution_count": 8,
   "metadata": {},
   "outputs": [
    {
     "name": "stdout",
     "output_type": "stream",
     "text": [
      "Probability of missed transit = 0.0%\n",
      "95%-ile upper limit to planet radius = 0.66 R_Earth\n"
     ]
    }
   ],
   "source": [
    "percentile = 95\n",
    "nmc = 500\n",
    "nsample = 50\n",
    "rpl = []\n",
    "k = sqrt(D)\n",
    "TM  = models.TransitModel()\n",
    "for i in range(0,nmc):\n",
    "    _T0 = G(T0.n,T0.s)\n",
    "    _P = G(P.n,P.s)\n",
    "    _aR = G(aR.n,aR.s)\n",
    "    b = U() \n",
    "    W = transit_width(1/_aR,k,b)\n",
    "    p = TM.make_params(T_0=_T0, P=_P, \n",
    "                       D=D, W=W, b=b,\n",
    "                       h_1=h_1, h_2=h_2)\n",
    "    model = TM.eval(params=p,t=tjd)\n",
    "    s,_,e_s,_ = models.scaled_transit_fit(flux,ferr,model)\n",
    "    d = s*D\n",
    "    e_d = e_s*D\n",
    "    rpl.append(sqrt(clip(G(d,e_d,nsample),0,1))*G(r_star.n,r_star.s,nsample))\n",
    "    #print(\"{:5.0f} {:10.4f} {:5.2f} {:4.2f} {:4.2f} {:4.2f}\".format(i,_T0,_aR,b,d*1e6,e_d*1e6))\n",
    "\n",
    "rpl = np.array(rpl).flatten()\n",
    "nok = sum(isfinite(rpl))\n",
    "pok = 100*nok/len(rpl)\n",
    "print(\"Probability of missed transit = {:0.1f}%\".format(100-pok))\n",
    "if pok < percentile:\n",
    "    print(\"Insufficient data to calculate {}%-ile upper limit\".format(percentile))\n",
    "else:\n",
    "    rpl[isnan(rpl)] = 1e9\n",
    "    rpl = rpl*R_SunN/R_EarthN\n",
    "    rpl_up = np.percentile(rpl,percentile)\n",
    "    print(\"{}%-ile upper limit to planet radius = {:0.2f} R_Earth\".\n",
    "          format(percentile,rpl_up))"
   ]
  },
  {
   "cell_type": "code",
   "execution_count": 9,
   "metadata": {
    "scrolled": true
   },
   "outputs": [
    {
     "data": {
      "text/plain": [
       "<matplotlib.legend.Legend at 0x1a2980c748>"
      ]
     },
     "execution_count": 9,
     "metadata": {},
     "output_type": "execute_result"
    },
    {
     "data": {
      "image/png": "[encoded data removed]",
      "text/plain": [
       "<Figure size 432x288 with 1 Axes>"
      ]
     },
     "metadata": {
      "needs_background": "light"
     },
     "output_type": "display_data"
    }
   ],
   "source": [
    "Fe = array(\n",
    "    [[1.14, 0.802], [2.0, 0.936], [3.0, 1.043],\n",
    "     [4.0, 1.122], [6.0, 1.241], [8.0, 1.335],\n",
    "     [10.0, 1.412], [14.0, 1.518],[20.0, 1.640]])\n",
    "H20 = array([\n",
    "    [0.702, 1.280], [1.0, 1.412],[2.0, 1.707],[3.0, 1.905],\n",
    "    [4.0, 2.055],[5.0, 2.180],[6.0, 2.284],[8.0, 2.457],\n",
    "    [10.0, 2.595], [14.0, 2.811], [20.0, 3.049]])\n",
    "fig, ax = subplots()\n",
    "ax.plot(H20[:,0],H20[:,1],c='darkcyan',label='H20')\n",
    "ax.plot(Fe[:,0],Fe[:,1],c='darkred',label='Fe')\n",
    "ax.set_xlim(0.8,10)\n",
    "ax.set_ylim(0,3)\n",
    "ax.set_xlabel('M [M$_{\\oplus}$]')\n",
    "ax.set_ylabel('R [R$_{\\oplus}$]')\n",
    "ax.plot(mpl.n,rpl_up,'bo')\n",
    "ax.errorbar(mpl.n,rpl_up,xerr=mpl.s,c='b',capsize=4)  \n",
    "ax.errorbar(mpl.n,rpl_up,yerr=0.2,c='b',uplims=True)    \n",
    "ax.legend()"
   ]
  },
  {
   "cell_type": "markdown",
   "metadata": {},
   "source": [
    "&copy; Pierre Maxted, Keele University (2020)"
   ]
  }
 ],
 "metadata": {
  "kernelspec": {
   "display_name": "Python 3",
   "language": "python",
   "name": "python3"
  },
  "language_info": {
   "codemirror_mode": {
    "name": "ipython",
    "version": 3
   },
   "file_extension": ".py",
   "mimetype": "text/x-python",
   "name": "python",
   "nbconvert_exporter": "python",
   "pygments_lexer": "ipython3",
   "version": "3.7.3"
  }
 },
 "nbformat": 4,
 "nbformat_minor": 2
}
